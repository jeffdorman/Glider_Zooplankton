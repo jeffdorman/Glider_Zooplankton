{
 "cells": [
  {
   "cell_type": "code",
   "execution_count": 30,
   "id": "df378b36",
   "metadata": {},
   "outputs": [
    {
     "name": "stdout",
     "output_type": "stream",
     "text": [
      "dict_keys(['profile', 'mission_name', 'depth', 'lat', 'lon', 'lat_uv', 'lon_uv', 'u_depth_mean', 'v_depth_mean', 'temperature', 'salinity', 'chlorophyll_a', 'u', 'v', 'acoustic_backscatter', 'time', 'time_uv', 'acoustic_backscatter_flag', 'doxy', 'mission', 'mission_profile', 'trajectory_index'])\n"
     ]
    }
   ],
   "source": [
    "from matplotlib import pyplot as plt\n",
    "import pandas as pd\n",
    "import netCDF4\n",
    "fname='CUGN_line_90_copy.nc'\n",
    "nc = netCDF4.Dataset(fname,'r')\n",
    "# Get the variable names\n",
    "variable_names = nc.variables.keys()\n",
    "\n",
    "# Print the variable names\n",
    "print(variable_names)\n"
   ]
  },
  {
   "cell_type": "code",
   "execution_count": 31,
   "id": "4656d7c4",
   "metadata": {},
   "outputs": [],
   "source": [
    "nc_time = nc.variables['time']  # access a variable in the file\n",
    "depth=nc.variables['depth']\n",
    "lat=nc.variables['lat']\n",
    "lon=nc.variables['lon']\n",
    "temp=nc.variables['temperature']\n",
    "sal=nc.variables['salinity']\n",
    "chla=nc.variables['chlorophyll_a']\n",
    "do=nc.variables['doxy']\n",
    "ab=nc.variables['acoustic_backscatter']\n",
    "abf=nc.variables['acoustic_backscatter_flag']\n",
    "\n",
    "nc_time_uv=nc.variables['time_uv']\n",
    "lat_uv=nc.variables['lat_uv']\n",
    "lon_uv=nc.variables['lon_uv']\n",
    "depth_umean=nc.variables['u_depth_mean']\n",
    "depth_vmean=nc.variables['v_depth_mean']\n",
    "\n",
    "\n",
    "u=nc.variables['u']\n",
    "v=nc.variables['v']\n",
    "\n",
    "profile=nc.variables['profile']\n",
    "mp=nc.variables['mission_profile']\n",
    "mn=nc.variables['mission_name']\n",
    "m=nc.variables['mission']\n",
    "\n",
    "ti=nc.variables['trajectory_index']"
   ]
  },
  {
   "cell_type": "code",
   "execution_count": 32,
   "id": "88446979",
   "metadata": {},
   "outputs": [
    {
     "data": {
      "text/plain": [
       "(50, 59216)"
      ]
     },
     "execution_count": 32,
     "metadata": {},
     "output_type": "execute_result"
    }
   ],
   "source": [
    "np.shape(ab)"
   ]
  },
  {
   "cell_type": "code",
   "execution_count": 4,
   "id": "099e8523",
   "metadata": {},
   "outputs": [],
   "source": [
    "tdat=nc_time[:].data\n",
    "mission=ti[:].data\n"
   ]
  },
  {
   "cell_type": "code",
   "execution_count": 5,
   "id": "d71da039",
   "metadata": {},
   "outputs": [],
   "source": [
    "import numpy as np\n",
    "import matplotlib.pyplot as plt"
   ]
  },
  {
   "cell_type": "code",
   "execution_count": 6,
   "id": "8991ab13",
   "metadata": {},
   "outputs": [],
   "source": [
    "st_tm=list()\n",
    "end_tm=list()\n",
    "\n",
    "mx=np.max(mission)\n",
    "\n",
    "for i in range (0,mx+1):\n",
    "    #print(i)\n",
    "    loar=mission==i\n",
    "    l_idx=np.min(np.where(loar))\n",
    "    u_idx=np.max(np.where(loar))\n",
    "    st_tm.append(tdat[l_idx])\n",
    "    end_tm.append(tdat[u_idx])"
   ]
  },
  {
   "cell_type": "code",
   "execution_count": 18,
   "id": "b8bd900e",
   "metadata": {},
   "outputs": [],
   "source": [
    "from datetime import datetime, timedelta\n",
    "\n",
    "epoch_time=datetime(1970,1,1)\n",
    "dt_st_tm=list()\n",
    "dt_end_tm=list()\n",
    "for i in range (0,58):\n",
    "#    if ((st_tm[i]=='nan') | (end_tm[i]=='nan')):\n",
    "#        print('skipping')\n",
    "#    else:\n",
    "    dt_st_tm.append(epoch_time + timedelta(seconds=st_tm[i]))\n",
    "    dt_end_tm.append(epoch_time + timedelta(seconds=end_tm[i]))\n",
    "        \n",
    "for i in range(61,len(st_tm)):\n",
    "    dt_st_tm.append(epoch_time + timedelta(seconds=st_tm[i]))\n",
    "    dt_end_tm.append(epoch_time + timedelta(seconds=end_tm[i]))\n"
   ]
  },
  {
   "cell_type": "code",
   "execution_count": 20,
   "id": "bb1ce600",
   "metadata": {},
   "outputs": [
    {
     "data": {
      "text/plain": [
       "[datetime.datetime(2005, 10, 13, 19, 16, 41),\n",
       " datetime.datetime(2006, 2, 25, 20, 32, 30),\n",
       " datetime.datetime(2006, 5, 10, 14, 32),\n",
       " datetime.datetime(2006, 10, 16, 19, 46, 50),\n",
       " datetime.datetime(2007, 1, 14, 20, 41, 15),\n",
       " datetime.datetime(2007, 3, 2, 19, 58, 40),\n",
       " datetime.datetime(2007, 5, 31, 17, 17, 36),\n",
       " datetime.datetime(2007, 8, 29, 17, 30, 1),\n",
       " datetime.datetime(2007, 11, 20, 21, 16),\n",
       " datetime.datetime(2008, 1, 10, 19, 32, 7),\n",
       " datetime.datetime(2008, 4, 22, 17, 55, 32),\n",
       " datetime.datetime(2008, 7, 31, 18, 30, 32),\n",
       " datetime.datetime(2008, 11, 7, 20, 19, 38),\n",
       " datetime.datetime(2009, 2, 13, 19, 10, 47),\n",
       " datetime.datetime(2009, 5, 13, 18, 8),\n",
       " datetime.datetime(2009, 8, 26, 17, 21, 33),\n",
       " datetime.datetime(2009, 12, 2, 17, 29, 45),\n",
       " datetime.datetime(2010, 2, 25, 18, 56, 34),\n",
       " datetime.datetime(2010, 4, 27, 17, 59, 41),\n",
       " datetime.datetime(2010, 4, 8, 21, 12, 23),\n",
       " datetime.datetime(2010, 6, 23, 19, 33, 47),\n",
       " datetime.datetime(2010, 11, 3, 18, 40, 41),\n",
       " datetime.datetime(2011, 2, 3, 17, 52, 58),\n",
       " datetime.datetime(2011, 5, 13, 15, 42, 14),\n",
       " datetime.datetime(2011, 6, 30, 19, 22, 18),\n",
       " datetime.datetime(2011, 8, 24, 18, 14, 28),\n",
       " datetime.datetime(2011, 9, 15, 20, 40, 6),\n",
       " datetime.datetime(2011, 12, 20, 19, 10, 27),\n",
       " datetime.datetime(2012, 3, 28, 18, 19, 2),\n",
       " datetime.datetime(2012, 6, 18, 16, 17, 27),\n",
       " datetime.datetime(2012, 8, 9, 19, 31, 9),\n",
       " datetime.datetime(2012, 12, 6, 20, 58, 47),\n",
       " datetime.datetime(2013, 3, 7, 19, 54, 57),\n",
       " datetime.datetime(2013, 6, 25, 18, 14, 56),\n",
       " datetime.datetime(2013, 10, 9, 18, 31, 52),\n",
       " datetime.datetime(2014, 1, 21, 19, 30),\n",
       " datetime.datetime(2014, 5, 1, 18, 0, 7),\n",
       " datetime.datetime(2014, 8, 13, 17, 40, 28),\n",
       " datetime.datetime(2014, 12, 10, 18, 15, 50),\n",
       " datetime.datetime(2015, 3, 31, 17, 22, 29),\n",
       " datetime.datetime(2015, 7, 16, 20, 54, 23),\n",
       " datetime.datetime(2015, 11, 5, 18, 5, 9),\n",
       " datetime.datetime(2016, 2, 18, 18, 23, 50),\n",
       " datetime.datetime(2016, 4, 5, 19, 21, 46),\n",
       " datetime.datetime(2016, 6, 2, 17, 2),\n",
       " datetime.datetime(2016, 9, 6, 19, 42, 38),\n",
       " datetime.datetime(2016, 11, 30, 18, 43, 51),\n",
       " datetime.datetime(2017, 3, 14, 17, 36, 42),\n",
       " datetime.datetime(2017, 6, 28, 17, 18, 10),\n",
       " datetime.datetime(2017, 10, 11, 17, 57, 57),\n",
       " datetime.datetime(2018, 1, 26, 18, 36, 34),\n",
       " datetime.datetime(2018, 5, 8, 17, 30, 57),\n",
       " datetime.datetime(2018, 8, 23, 16, 54, 18),\n",
       " datetime.datetime(2018, 12, 7, 17, 58, 2),\n",
       " datetime.datetime(2019, 1, 24, 18, 3),\n",
       " datetime.datetime(2019, 2, 28, 18, 9, 54),\n",
       " datetime.datetime(2019, 6, 20, 17, 33, 54),\n",
       " datetime.datetime(2019, 10, 3, 17, 46, 52),\n",
       " datetime.datetime(2020, 12, 9, 17, 59, 45),\n",
       " datetime.datetime(2021, 3, 24, 17, 17, 33),\n",
       " datetime.datetime(2021, 7, 15, 4, 49, 50),\n",
       " datetime.datetime(2021, 10, 28, 17, 17, 36),\n",
       " datetime.datetime(2022, 2, 17, 18, 39, 51),\n",
       " datetime.datetime(2022, 3, 31, 17, 12, 2),\n",
       " datetime.datetime(2022, 8, 9, 17, 24, 2),\n",
       " datetime.datetime(2022, 11, 29, 18, 10, 24),\n",
       " datetime.datetime(2023, 3, 16, 17, 47, 56),\n",
       " datetime.datetime(2023, 7, 6, 16, 54, 52),\n",
       " datetime.datetime(2023, 10, 24, 17, 15, 20),\n",
       " datetime.datetime(2024, 2, 6, 17, 45),\n",
       " datetime.datetime(2024, 3, 8, 17, 48, 16)]"
      ]
     },
     "execution_count": 20,
     "metadata": {},
     "output_type": "execute_result"
    }
   ],
   "source": [
    "dt_st_tm"
   ]
  },
  {
   "cell_type": "code",
   "execution_count": 26,
   "id": "13ccc264",
   "metadata": {},
   "outputs": [
    {
     "data": {
      "image/png": "[encoded data removed]",
      "text/plain": [
       "<Figure size 640x480 with 1 Axes>"
      ]
     },
     "metadata": {},
     "output_type": "display_data"
    }
   ],
   "source": [
    "import matplotlib.pyplot as plt\n",
    "#x1, y1 = [-1, 12], [1, 4]\n",
    "fig, ax= plt.subplots()\n",
    "for i in range (0,len(dt_st_tm)):\n",
    "    x2, y2 = [dt_st_tm[i], dt_end_tm[i]], [1, 1]\n",
    "    ax.plot(x2, y2)#, marker = 'o')\n"
   ]
  },
  {
   "cell_type": "code",
   "execution_count": 75,
   "id": "90cfd7d5",
   "metadata": {},
   "outputs": [],
   "source": []
  },
  {
   "cell_type": "code",
   "execution_count": 1,
   "id": "0536fa96",
   "metadata": {},
   "outputs": [
    {
     "ename": "NameError",
     "evalue": "name 'jeff' is not defined",
     "output_type": "error",
     "traceback": [
      "\u001b[0;31m---------------------------------------------------------------------------\u001b[0m",
      "\u001b[0;31mNameError\u001b[0m                                 Traceback (most recent call last)",
      "\u001b[0;32m/var/folders/h2/w8pddp5d24376bz8h143chnr0000gn/T/ipykernel_17967/2504704091.py\u001b[0m in \u001b[0;36m<module>\u001b[0;34m\u001b[0m\n\u001b[0;32m----> 1\u001b[0;31m \u001b[0mjeff\u001b[0m\u001b[0;34m\u001b[0m\u001b[0;34m\u001b[0m\u001b[0m\n\u001b[0m",
      "\u001b[0;31mNameError\u001b[0m: name 'jeff' is not defined"
     ]
    }
   ],
   "source": []
  }
 ],
 "metadata": {
  "kernelspec": {
   "display_name": "Python 3 (ipykernel)",
   "language": "python",
   "name": "python3"
  },
  "language_info": {
   "codemirror_mode": {
    "name": "ipython",
    "version": 3
   },
   "file_extension": ".py",
   "mimetype": "text/x-python",
   "name": "python",
   "nbconvert_exporter": "python",
   "pygments_lexer": "ipython3",
   "version": "3.9.13"
  }
 },
 "nbformat": 4,
 "nbformat_minor": 5
}
